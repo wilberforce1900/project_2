{
 "cells": [
  {
   "cell_type": "code",
   "execution_count": 1,
   "id": "fd81384a-3226-49c1-8d3b-65dd66e377cd",
   "metadata": {},
   "outputs": [],
   "source": [
    "##dat 402 will wang\n",
    "## project 02"
   ]
  },
  {
   "cell_type": "code",
   "execution_count": 2,
   "id": "e427acde-2105-4253-b79a-19201cde623f",
   "metadata": {},
   "outputs": [],
   "source": [
    "## dataset gov bldg"
   ]
  },
  {
   "cell_type": "code",
   "execution_count": null,
   "id": "c138291e-25b0-4c1a-9c98-9ef1efa355c9",
   "metadata": {},
   "outputs": [],
   "source": []
  }
 ],
 "metadata": {
  "kernelspec": {
   "display_name": "Python 3 (ipykernel)",
   "language": "python",
   "name": "python3"
  },
  "language_info": {
   "codemirror_mode": {
    "name": "ipython",
    "version": 3
   },
   "file_extension": ".py",
   "mimetype": "text/x-python",
   "name": "python",
   "nbconvert_exporter": "python",
   "pygments_lexer": "ipython3",
   "version": "3.7.13"
  }
 },
 "nbformat": 4,
 "nbformat_minor": 5
}
